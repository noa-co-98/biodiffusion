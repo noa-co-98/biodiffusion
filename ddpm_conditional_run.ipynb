{
  "nbformat": 4,
  "nbformat_minor": 0,
  "metadata": {
    "colab": {
      "provenance": [],
      "gpuType": "T4",
      "authorship_tag": "ABX9TyOrV2SHCz5ZIzvOwc+I7ge3",
      "include_colab_link": true
    },
    "kernelspec": {
      "name": "python3",
      "display_name": "Python 3"
    },
    "language_info": {
      "name": "python"
    },
    "accelerator": "GPU"
  },
  "cells": [
    {
      "cell_type": "markdown",
      "metadata": {
        "id": "view-in-github",
        "colab_type": "text"
      },
      "source": [
        "<a href=\"https://colab.research.google.com/github/noa-co-98/biodiffusion/blob/main/ddpm_conditional_run.ipynb\" target=\"_parent\"><img src=\"https://colab.research.google.com/assets/colab-badge.svg\" alt=\"Open In Colab\"/></a>"
      ]
    },
    {
      "cell_type": "code",
      "execution_count": 1,
      "metadata": {
        "colab": {
          "base_uri": "https://localhost:8080/"
        },
        "id": "cTUG6Epl7Cg5",
        "outputId": "6aa83c7f-f05b-46df-a350-26cbfebdb284"
      },
      "outputs": [
        {
          "output_type": "stream",
          "name": "stdout",
          "text": [
            "Cloning into 'biodiffusion'...\n",
            "remote: Enumerating objects: 678, done.\u001b[K\n",
            "remote: Counting objects: 100% (57/57), done.\u001b[K\n",
            "remote: Compressing objects: 100% (52/52), done.\u001b[K\n",
            "remote: Total 678 (delta 23), reused 8 (delta 3), pack-reused 621 (from 1)\u001b[K\n",
            "Receiving objects: 100% (678/678), 36.69 MiB | 26.84 MiB/s, done.\n",
            "Resolving deltas: 100% (56/56), done.\n"
          ]
        }
      ],
      "source": [
        "!git clone https://github.com/noa-co-98/biodiffusion.git"
      ]
    },
    {
      "cell_type": "code",
      "source": [
        "!pip install kaggle\n",
        "from google.colab import files\n",
        "files.upload()  # This will prompt you to upload the kaggle.json file\n"
      ],
      "metadata": {
        "colab": {
          "base_uri": "https://localhost:8080/",
          "height": 316
        },
        "id": "gBMPvRyw7FB9",
        "outputId": "8689c3fc-9757-468b-c121-6ac58e27c5ed"
      },
      "execution_count": 2,
      "outputs": [
        {
          "output_type": "stream",
          "name": "stdout",
          "text": [
            "Requirement already satisfied: kaggle in /usr/local/lib/python3.10/dist-packages (1.6.17)\n",
            "Requirement already satisfied: six>=1.10 in /usr/local/lib/python3.10/dist-packages (from kaggle) (1.16.0)\n",
            "Requirement already satisfied: certifi>=2023.7.22 in /usr/local/lib/python3.10/dist-packages (from kaggle) (2024.8.30)\n",
            "Requirement already satisfied: python-dateutil in /usr/local/lib/python3.10/dist-packages (from kaggle) (2.8.2)\n",
            "Requirement already satisfied: requests in /usr/local/lib/python3.10/dist-packages (from kaggle) (2.32.3)\n",
            "Requirement already satisfied: tqdm in /usr/local/lib/python3.10/dist-packages (from kaggle) (4.66.5)\n",
            "Requirement already satisfied: python-slugify in /usr/local/lib/python3.10/dist-packages (from kaggle) (8.0.4)\n",
            "Requirement already satisfied: urllib3 in /usr/local/lib/python3.10/dist-packages (from kaggle) (2.0.7)\n",
            "Requirement already satisfied: bleach in /usr/local/lib/python3.10/dist-packages (from kaggle) (6.1.0)\n",
            "Requirement already satisfied: webencodings in /usr/local/lib/python3.10/dist-packages (from bleach->kaggle) (0.5.1)\n",
            "Requirement already satisfied: text-unidecode>=1.3 in /usr/local/lib/python3.10/dist-packages (from python-slugify->kaggle) (1.3)\n",
            "Requirement already satisfied: charset-normalizer<4,>=2 in /usr/local/lib/python3.10/dist-packages (from requests->kaggle) (3.3.2)\n",
            "Requirement already satisfied: idna<4,>=2.5 in /usr/local/lib/python3.10/dist-packages (from requests->kaggle) (3.8)\n"
          ]
        },
        {
          "output_type": "display_data",
          "data": {
            "text/plain": [
              "<IPython.core.display.HTML object>"
            ],
            "text/html": [
              "\n",
              "     <input type=\"file\" id=\"files-659f5347-f46a-4d62-956d-b8644b4864ee\" name=\"files[]\" multiple disabled\n",
              "        style=\"border:none\" />\n",
              "     <output id=\"result-659f5347-f46a-4d62-956d-b8644b4864ee\">\n",
              "      Upload widget is only available when the cell has been executed in the\n",
              "      current browser session. Please rerun this cell to enable.\n",
              "      </output>\n",
              "      <script>// Copyright 2017 Google LLC\n",
              "//\n",
              "// Licensed under the Apache License, Version 2.0 (the \"License\");\n",
              "// you may not use this file except in compliance with the License.\n",
              "// You may obtain a copy of the License at\n",
              "//\n",
              "//      http://www.apache.org/licenses/LICENSE-2.0\n",
              "//\n",
              "// Unless required by applicable law or agreed to in writing, software\n",
              "// distributed under the License is distributed on an \"AS IS\" BASIS,\n",
              "// WITHOUT WARRANTIES OR CONDITIONS OF ANY KIND, either express or implied.\n",
              "// See the License for the specific language governing permissions and\n",
              "// limitations under the License.\n",
              "\n",
              "/**\n",
              " * @fileoverview Helpers for google.colab Python module.\n",
              " */\n",
              "(function(scope) {\n",
              "function span(text, styleAttributes = {}) {\n",
              "  const element = document.createElement('span');\n",
              "  element.textContent = text;\n",
              "  for (const key of Object.keys(styleAttributes)) {\n",
              "    element.style[key] = styleAttributes[key];\n",
              "  }\n",
              "  return element;\n",
              "}\n",
              "\n",
              "// Max number of bytes which will be uploaded at a time.\n",
              "const MAX_PAYLOAD_SIZE = 100 * 1024;\n",
              "\n",
              "function _uploadFiles(inputId, outputId) {\n",
              "  const steps = uploadFilesStep(inputId, outputId);\n",
              "  const outputElement = document.getElementById(outputId);\n",
              "  // Cache steps on the outputElement to make it available for the next call\n",
              "  // to uploadFilesContinue from Python.\n",
              "  outputElement.steps = steps;\n",
              "\n",
              "  return _uploadFilesContinue(outputId);\n",
              "}\n",
              "\n",
              "// This is roughly an async generator (not supported in the browser yet),\n",
              "// where there are multiple asynchronous steps and the Python side is going\n",
              "// to poll for completion of each step.\n",
              "// This uses a Promise to block the python side on completion of each step,\n",
              "// then passes the result of the previous step as the input to the next step.\n",
              "function _uploadFilesContinue(outputId) {\n",
              "  const outputElement = document.getElementById(outputId);\n",
              "  const steps = outputElement.steps;\n",
              "\n",
              "  const next = steps.next(outputElement.lastPromiseValue);\n",
              "  return Promise.resolve(next.value.promise).then((value) => {\n",
              "    // Cache the last promise value to make it available to the next\n",
              "    // step of the generator.\n",
              "    outputElement.lastPromiseValue = value;\n",
              "    return next.value.response;\n",
              "  });\n",
              "}\n",
              "\n",
              "/**\n",
              " * Generator function which is called between each async step of the upload\n",
              " * process.\n",
              " * @param {string} inputId Element ID of the input file picker element.\n",
              " * @param {string} outputId Element ID of the output display.\n",
              " * @return {!Iterable<!Object>} Iterable of next steps.\n",
              " */\n",
              "function* uploadFilesStep(inputId, outputId) {\n",
              "  const inputElement = document.getElementById(inputId);\n",
              "  inputElement.disabled = false;\n",
              "\n",
              "  const outputElement = document.getElementById(outputId);\n",
              "  outputElement.innerHTML = '';\n",
              "\n",
              "  const pickedPromise = new Promise((resolve) => {\n",
              "    inputElement.addEventListener('change', (e) => {\n",
              "      resolve(e.target.files);\n",
              "    });\n",
              "  });\n",
              "\n",
              "  const cancel = document.createElement('button');\n",
              "  inputElement.parentElement.appendChild(cancel);\n",
              "  cancel.textContent = 'Cancel upload';\n",
              "  const cancelPromise = new Promise((resolve) => {\n",
              "    cancel.onclick = () => {\n",
              "      resolve(null);\n",
              "    };\n",
              "  });\n",
              "\n",
              "  // Wait for the user to pick the files.\n",
              "  const files = yield {\n",
              "    promise: Promise.race([pickedPromise, cancelPromise]),\n",
              "    response: {\n",
              "      action: 'starting',\n",
              "    }\n",
              "  };\n",
              "\n",
              "  cancel.remove();\n",
              "\n",
              "  // Disable the input element since further picks are not allowed.\n",
              "  inputElement.disabled = true;\n",
              "\n",
              "  if (!files) {\n",
              "    return {\n",
              "      response: {\n",
              "        action: 'complete',\n",
              "      }\n",
              "    };\n",
              "  }\n",
              "\n",
              "  for (const file of files) {\n",
              "    const li = document.createElement('li');\n",
              "    li.append(span(file.name, {fontWeight: 'bold'}));\n",
              "    li.append(span(\n",
              "        `(${file.type || 'n/a'}) - ${file.size} bytes, ` +\n",
              "        `last modified: ${\n",
              "            file.lastModifiedDate ? file.lastModifiedDate.toLocaleDateString() :\n",
              "                                    'n/a'} - `));\n",
              "    const percent = span('0% done');\n",
              "    li.appendChild(percent);\n",
              "\n",
              "    outputElement.appendChild(li);\n",
              "\n",
              "    const fileDataPromise = new Promise((resolve) => {\n",
              "      const reader = new FileReader();\n",
              "      reader.onload = (e) => {\n",
              "        resolve(e.target.result);\n",
              "      };\n",
              "      reader.readAsArrayBuffer(file);\n",
              "    });\n",
              "    // Wait for the data to be ready.\n",
              "    let fileData = yield {\n",
              "      promise: fileDataPromise,\n",
              "      response: {\n",
              "        action: 'continue',\n",
              "      }\n",
              "    };\n",
              "\n",
              "    // Use a chunked sending to avoid message size limits. See b/62115660.\n",
              "    let position = 0;\n",
              "    do {\n",
              "      const length = Math.min(fileData.byteLength - position, MAX_PAYLOAD_SIZE);\n",
              "      const chunk = new Uint8Array(fileData, position, length);\n",
              "      position += length;\n",
              "\n",
              "      const base64 = btoa(String.fromCharCode.apply(null, chunk));\n",
              "      yield {\n",
              "        response: {\n",
              "          action: 'append',\n",
              "          file: file.name,\n",
              "          data: base64,\n",
              "        },\n",
              "      };\n",
              "\n",
              "      let percentDone = fileData.byteLength === 0 ?\n",
              "          100 :\n",
              "          Math.round((position / fileData.byteLength) * 100);\n",
              "      percent.textContent = `${percentDone}% done`;\n",
              "\n",
              "    } while (position < fileData.byteLength);\n",
              "  }\n",
              "\n",
              "  // All done.\n",
              "  yield {\n",
              "    response: {\n",
              "      action: 'complete',\n",
              "    }\n",
              "  };\n",
              "}\n",
              "\n",
              "scope.google = scope.google || {};\n",
              "scope.google.colab = scope.google.colab || {};\n",
              "scope.google.colab._files = {\n",
              "  _uploadFiles,\n",
              "  _uploadFilesContinue,\n",
              "};\n",
              "})(self);\n",
              "</script> "
            ]
          },
          "metadata": {}
        },
        {
          "output_type": "stream",
          "name": "stdout",
          "text": [
            "Saving kaggle.json to kaggle.json\n"
          ]
        },
        {
          "output_type": "execute_result",
          "data": {
            "text/plain": [
              "{'kaggle.json': b'{\"username\":\"noacoohen\",\"key\":\"d2293130301a7938f40f1ffa2cb47dd6\"}'}"
            ]
          },
          "metadata": {},
          "execution_count": 2
        }
      ]
    },
    {
      "cell_type": "code",
      "source": [
        "! mkdir ~/.kaggle\n",
        "! cp kaggle.json ~/.kaggle/\n",
        "! chmod 600 ~/.kaggle/kaggle.json"
      ],
      "metadata": {
        "colab": {
          "base_uri": "https://localhost:8080/"
        },
        "id": "CTGgntlw7GSp",
        "outputId": "0c6715d7-8d19-41b6-f765-6303c8b62232"
      },
      "execution_count": 9,
      "outputs": [
        {
          "output_type": "stream",
          "name": "stdout",
          "text": [
            "mkdir: cannot create directory ‘/root/.kaggle’: File exists\n"
          ]
        }
      ]
    },
    {
      "cell_type": "code",
      "source": [
        "# Get the current working directory\n",
        "cwd = os.getcwd()\n",
        "\n",
        "# Set PYTHONPATH to include current working directory and the 'src' directory\n",
        "sys.path.append(cwd)\n",
        "sys.path.append(os.path.join(cwd, 'src'))\n",
        "\n",
        "# Verify that PYTHONPATH has been set\n",
        "print(sys.path)"
      ],
      "metadata": {
        "colab": {
          "base_uri": "https://localhost:8080/"
        },
        "id": "rB7sYrb2I21i",
        "outputId": "7730441b-1fc6-4115-9945-36f459251744"
      },
      "execution_count": 11,
      "outputs": [
        {
          "output_type": "stream",
          "name": "stdout",
          "text": [
            "['/content', '/env/python', '/usr/lib/python310.zip', '/usr/lib/python3.10', '/usr/lib/python3.10/lib-dynload', '', '/usr/local/lib/python3.10/dist-packages', '/usr/lib/python3/dist-packages', '/usr/local/lib/python3.10/dist-packages/IPython/extensions', '/usr/local/lib/python3.10/dist-packages/setuptools/_vendor', '/root/.ipython', '/content', '/content/src', '/content', '/content/src', '/content', '/content/src']\n"
          ]
        }
      ]
    },
    {
      "cell_type": "code",
      "source": [
        "!kaggle datasets download -d kmader/ridi-robust-imu-double-integration -p /content\n"
      ],
      "metadata": {
        "colab": {
          "base_uri": "https://localhost:8080/"
        },
        "id": "Cn_ayZ7zI707",
        "outputId": "e99538c9-09ed-4b9d-dbb5-2e326e5a1d9a"
      },
      "execution_count": 13,
      "outputs": [
        {
          "output_type": "stream",
          "name": "stdout",
          "text": [
            "Dataset URL: https://www.kaggle.com/datasets/kmader/ridi-robust-imu-double-integration\n",
            "License(s): Attribution-NoDerivatives 4.0 International (CC BY-ND 4.0)\n",
            "Downloading ridi-robust-imu-double-integration.zip to /content\n",
            "100% 2.95G/2.96G [00:51<00:00, 63.3MB/s]\n",
            "100% 2.96G/2.96G [00:51<00:00, 61.8MB/s]\n"
          ]
        }
      ]
    },
    {
      "cell_type": "code",
      "source": [
        "!ls /content\n"
      ],
      "metadata": {
        "colab": {
          "base_uri": "https://localhost:8080/"
        },
        "id": "84Bu5XXPNYt4",
        "outputId": "1e4ad854-eb2d-4769-a937-ea0aa3780004"
      },
      "execution_count": 37,
      "outputs": [
        {
          "output_type": "stream",
          "name": "stdout",
          "text": [
            "biodiffusion\t kaggle.json  requirements.txt\tridi-robust-imu-double-integration.zip\n",
            "data_publish_v2  models       results\t\tsample_data\n"
          ]
        }
      ]
    },
    {
      "cell_type": "code",
      "source": [
        "ls /content/data_publish_v2"
      ],
      "metadata": {
        "colab": {
          "base_uri": "https://localhost:8080/"
        },
        "id": "1RNJ0j52P53q",
        "outputId": "468bbc2f-7235-4fc9-c2f4-a31fa97626c3"
      },
      "execution_count": 38,
      "outputs": [
        {
          "output_type": "stream",
          "name": "stdout",
          "text": [
            "\u001b[0m\u001b[01;34mdan_bag1\u001b[0m/             \u001b[01;34mhang_body_test1\u001b[0m/           \u001b[01;34mhuayi_leg_front2\u001b[0m/          \u001b[01;34mtang_bag1\u001b[0m/\n",
            "\u001b[01;34mdan_bag2\u001b[0m/             \u001b[01;34mhang_handheld_normal1\u001b[0m/     \u001b[01;34mhuayi_leg_front3\u001b[0m/          \u001b[01;34mtang_bag2\u001b[0m/\n",
            "\u001b[01;34mdan_body1\u001b[0m/            \u001b[01;34mhang_handheld_side3\u001b[0m/       \u001b[01;34mhuayi_lopata1\u001b[0m/             \u001b[01;34mtang_body1\u001b[0m/\n",
            "\u001b[01;34mdan_body2\u001b[0m/            \u001b[01;34mhang_handheld_side4\u001b[0m/       list_crosssubject.txt      \u001b[01;34mtang_body2\u001b[0m/\n",
            "\u001b[01;34mdan_body3\u001b[0m/            \u001b[01;34mhang_handheld_side_test2\u001b[0m/  list_submission.txt        \u001b[01;34mtang_handheld1\u001b[0m/\n",
            "\u001b[01;34mdan_handheld1\u001b[0m/        \u001b[01;34mhang_handheld_speed1\u001b[0m/      list_test_publish_v2.txt   \u001b[01;34mtang_handheld2\u001b[0m/\n",
            "\u001b[01;34mdan_handheld2\u001b[0m/        \u001b[01;34mhang_handheld_speed2\u001b[0m/      list_train_publish_v2.txt  \u001b[01;34mxiaojing_body1\u001b[0m/\n",
            "\u001b[01;34mdan_leg1\u001b[0m/             \u001b[01;34mhang_handheld_test1\u001b[0m/       \u001b[01;34mma_bag_low2\u001b[0m/               \u001b[01;34mxiaojing_body2\u001b[0m/\n",
            "\u001b[01;34mdan_leg2\u001b[0m/             \u001b[01;34mhang_leg_new1\u001b[0m/             \u001b[01;34mma_bag_low3\u001b[0m/               \u001b[01;34mxiaojing_handheld1\u001b[0m/\n",
            "\u001b[01;34mdata_publish_v2\u001b[0m/      \u001b[01;34mhang_leg_new2\u001b[0m/             \u001b[01;34mma_body1\u001b[0m/                  \u001b[01;34mxiaojing_handheld2\u001b[0m/\n",
            "\u001b[01;34mhang_bag_normal1\u001b[0m/     \u001b[01;34mhao_bag1\u001b[0m/                  \u001b[01;34mma_body2\u001b[0m/                  \u001b[01;34mxiaojing_leg1\u001b[0m/\n",
            "\u001b[01;34mhang_bag_normal2\u001b[0m/     \u001b[01;34mhao_bag2\u001b[0m/                  \u001b[01;34mma_handheld1\u001b[0m/              \u001b[01;34myajie_bag1\u001b[0m/\n",
            "\u001b[01;34mhang_bag_side1\u001b[0m/       \u001b[01;34mhao_body1\u001b[0m/                 \u001b[01;34mma_handheld2\u001b[0m/              \u001b[01;34myajie_body1\u001b[0m/\n",
            "\u001b[01;34mhang_bag_speed1\u001b[0m/      \u001b[01;34mhao_body2\u001b[0m/                 \u001b[01;34mma_handheld3\u001b[0m/              \u001b[01;34myajie_body2\u001b[0m/\n",
            "\u001b[01;34mhang_bag_speed2\u001b[0m/      \u001b[01;34mhao_handheld1\u001b[0m/             \u001b[01;34mruixuan_bag1\u001b[0m/              \u001b[01;34myajie_handheld1\u001b[0m/\n",
            "\u001b[01;34mhang_bag_stop1\u001b[0m/       \u001b[01;34mhao_handheld2\u001b[0m/             \u001b[01;34mruixuan_bag2\u001b[0m/              \u001b[01;34myajie_handheld2\u001b[0m/\n",
            "\u001b[01;34mhang_body_backward1\u001b[0m/  \u001b[01;34mhao_leg1\u001b[0m/                  \u001b[01;34mruixuan_body1\u001b[0m/             \u001b[01;34mzhicheng_bag1\u001b[0m/\n",
            "\u001b[01;34mhang_body_backward2\u001b[0m/  \u001b[01;34mhao_leg2\u001b[0m/                  \u001b[01;34mruixuan_body2\u001b[0m/             \u001b[01;34mzhicheng_bag2\u001b[0m/\n",
            "\u001b[01;34mhang_body_backward3\u001b[0m/  \u001b[01;34mhuayi_bag1\u001b[0m/                \u001b[01;34mruixuan_handheld1\u001b[0m/         \u001b[01;34mzhicheng_body1\u001b[0m/\n",
            "\u001b[01;34mhang_body_backward4\u001b[0m/  \u001b[01;34mhuayi_bag2\u001b[0m/                \u001b[01;34mruixuan_handheld2\u001b[0m/         \u001b[01;34mzhicheng_body2\u001b[0m/\n",
            "\u001b[01;34mhang_body_fast1\u001b[0m/      \u001b[01;34mhuayi_bag_test1\u001b[0m/           \u001b[01;34mruixuan_leg1\u001b[0m/              \u001b[01;34mzhicheng_handheld1\u001b[0m/\n",
            "\u001b[01;34mhang_body_normal1\u001b[0m/    \u001b[01;34mhuayi_body_test1\u001b[0m/          \u001b[01;34mruixuan_leg2\u001b[0m/              \u001b[01;34mzhicheng_handheld2\u001b[0m/\n",
            "\u001b[01;34mhang_body_side1\u001b[0m/      \u001b[01;34mhuayi_handheld1\u001b[0m/           \u001b[01;34mshali_bag1\u001b[0m/                \u001b[01;34mzhicheng_leg1\u001b[0m/\n",
            "\u001b[01;34mhang_body_slow1\u001b[0m/      \u001b[01;34mhuayi_handheld2\u001b[0m/           \u001b[01;34mshali_handheld1\u001b[0m/           \u001b[01;34mzhicheng_leg2\u001b[0m/\n",
            "\u001b[01;34mhang_body_stop1\u001b[0m/      \u001b[01;34mhuayi_leg_front1\u001b[0m/          \u001b[01;34mshali_leg1\u001b[0m/\n"
          ]
        }
      ]
    },
    {
      "cell_type": "code",
      "source": [
        "destination_path =  '/content'\n",
        "\n",
        "dataset_file = os.path.join(destination_path, 'ridi-robust-imu-double-integration.zip')  # Update with the correct file name if different\n",
        "if os.path.exists(dataset_file):\n",
        "    with zipfile.ZipFile(dataset_file, 'r') as zip_ref:\n",
        "        zip_ref.extractall(destination_path)\n",
        "    print(f'Dataset extracted to {destination_path}')\n",
        "else:\n",
        "    print(f'File {dataset_file} does not exist')"
      ],
      "metadata": {
        "colab": {
          "base_uri": "https://localhost:8080/"
        },
        "id": "seGo3WX27J44",
        "outputId": "cce4d604-3099-47af-b7e2-063aa900ecec"
      },
      "execution_count": 26,
      "outputs": [
        {
          "output_type": "stream",
          "name": "stdout",
          "text": [
            "Dataset extracted to /content\n"
          ]
        }
      ]
    },
    {
      "cell_type": "code",
      "source": [
        "# Install dependencies from environment.yml (converted to requirements.txt)\n",
        "!pip install -r requirements.txt\n",
        "#!pip install torch==2.0.1+cu121 torchaudio==2.0.1+cu121 torchvision==0.15.1+cu121 kaggle matplotlib tqdm\n",
        "# Dynamically set the PYTHONPATH for the environment\n",
        "import os\n",
        "import sys\n",
        "\n",
        "# Get the current working directory\n",
        "cwd = os.getcwd()\n",
        "\n",
        "# Set PYTHONPATH to include current working directory and the 'src' directory\n",
        "sys.path.append(cwd)\n",
        "sys.path.append(os.path.join(cwd, 'src'))\n",
        "\n",
        "# Verify that PYTHONPATH has been set\n",
        "print(sys.path)\n"
      ],
      "metadata": {
        "colab": {
          "base_uri": "https://localhost:8080/"
        },
        "id": "H5Vzo0aeGlkq",
        "outputId": "302d8626-8d16-4ed5-c865-fc7c417ed17d"
      },
      "execution_count": 16,
      "outputs": [
        {
          "output_type": "stream",
          "name": "stdout",
          "text": [
            "\u001b[31mERROR: Could not find a version that satisfies the requirement torch==2.0.1+cu121 (from versions: 1.11.0, 1.12.0, 1.12.1, 1.13.0, 1.13.1, 2.0.0, 2.0.1, 2.1.0, 2.1.1, 2.1.2, 2.2.0, 2.2.1, 2.2.2, 2.3.0, 2.3.1, 2.4.0, 2.4.1)\u001b[0m\u001b[31m\n",
            "\u001b[0m\u001b[31mERROR: No matching distribution found for torch==2.0.1+cu121\u001b[0m\u001b[31m\n",
            "\u001b[0m['/content', '/env/python', '/usr/lib/python310.zip', '/usr/lib/python3.10', '/usr/lib/python3.10/lib-dynload', '', '/usr/local/lib/python3.10/dist-packages', '/usr/lib/python3/dist-packages', '/usr/local/lib/python3.10/dist-packages/IPython/extensions', '/usr/local/lib/python3.10/dist-packages/setuptools/_vendor', '/root/.ipython', '/content', '/content/src', '/content', '/content/src', '/content', '/content/src', '/content', '/content/src']\n"
          ]
        }
      ]
    },
    {
      "cell_type": "code",
      "source": [
        "import torch\n",
        "print(torch.cuda.device_count())  # This should return the number of GPUs available\n",
        "print(torch.cuda.current_device())  # This will give the current device index\n",
        "print(torch.cuda.get_device_name(0))  # This should return the name of the GPU if available\n"
      ],
      "metadata": {
        "colab": {
          "base_uri": "https://localhost:8080/"
        },
        "id": "tp4BxIRhKTQ7",
        "outputId": "89c8dcd0-9e81-4386-ba4e-81e7f69681fe"
      },
      "execution_count": 22,
      "outputs": [
        {
          "output_type": "stream",
          "name": "stdout",
          "text": [
            "1\n",
            "0\n",
            "Tesla T4\n"
          ]
        }
      ]
    },
    {
      "cell_type": "code",
      "source": [
        "! python /content/biodiffusion/src/ddpm_conditional.py"
      ],
      "metadata": {
        "colab": {
          "base_uri": "https://localhost:8080/"
        },
        "id": "Vo7tiixy7Q6m",
        "outputId": "0aa3d77c-61e3-41f5-a515-3a2b2a85ff63"
      },
      "execution_count": 39,
      "outputs": [
        {
          "output_type": "stream",
          "name": "stdout",
          "text": [
            "cuda:0\n",
            "(865, 1)\n",
            "                                                path\n",
            "0  /content/data_publish_v2/data_publish_v2/hang_...\n",
            "1  /content/data_publish_v2/data_publish_v2/hang_...\n",
            "2  /content/data_publish_v2/data_publish_v2/hang_...\n",
            "3  /content/data_publish_v2/data_publish_v2/hang_...\n",
            "4  /content/data_publish_v2/data_publish_v2/hang_...\n",
            "/usr/local/lib/python3.10/dist-packages/torch/utils/data/dataloader.py:557: UserWarning: This DataLoader will create 4 worker processes in total. Our suggested max number of worker in current system is 2, which is smaller than what this DataLoader is going to create. Please be aware that excessive worker creation might get DataLoader running slow or even freeze, lower the worker number to avoid potential slowness/freeze if necessary.\n",
            "  warnings.warn(_create_warning_msg(\n",
            "/content/biodiffusion/src/ddpm_conditional.py:257: FutureWarning: `torch.cuda.amp.GradScaler(args...)` is deprecated. Please use `torch.amp.GradScaler('cuda', args...)` instead.\n",
            "  self.scaler = torch.cuda.amp.GradScaler()\n",
            "<IPython.core.display.HTML object>\n",
            "<IPython.core.display.HTML object>\n",
            "Traceback (most recent call last):\n",
            "  File \"/content/biodiffusion/src/ddpm_conditional.py\", line 316, in <module>\n",
            "    diffuser.fit(config)\n",
            "  File \"/content/biodiffusion/src/ddpm_conditional.py\", line 266, in fit\n",
            "    for epoch in progress_bar(range(args.epochs), total=args.epochs, leave=True):\n",
            "  File \"/usr/local/lib/python3.10/dist-packages/fastprogress/fastprogress.py\", line 39, in __iter__\n",
            "    if self.total != 0: self.update(0)\n",
            "  File \"/usr/local/lib/python3.10/dist-packages/fastprogress/fastprogress.py\", line 59, in update\n",
            "    self.update_bar(0)\n",
            "  File \"/usr/local/lib/python3.10/dist-packages/fastprogress/fastprogress.py\", line 81, in update_bar\n",
            "    self.on_update(val, f'{pct}[{val}/{tot} {elapsed_t}{self.lt}{remaining_t}{end}]')\n",
            "  File \"/usr/local/lib/python3.10/dist-packages/fastprogress/fastprogress.py\", line 133, in on_update\n",
            "    if self.display: self.out.update(HTML(self.progress))\n",
            "AttributeError: 'NoneType' object has no attribute 'update'\n"
          ]
        }
      ]
    },
    {
      "cell_type": "code",
      "source": [
        "# Set the number of samples and device\n",
        "n = 10\n",
        "device = \"cuda:0\"\n",
        "# Create a Diffusion model instance and load the trained model checkpoint\n",
        "diffusion = Diffusion(seq_size=256, device=device)\n",
        "diffusion.load(\"../../src/models/DDPM_conditional\")\n",
        "# Prepare labels and sample from the diffusion model\n",
        "labels = torch.full((n,), 1).long().to(diffusion.device)\n",
        "sampled_signals = diffusion.sample(use_ema=False, labels=labels)"
      ],
      "metadata": {
        "colab": {
          "base_uri": "https://localhost:8080/",
          "height": 211
        },
        "id": "Sjc0eTIw7e6l",
        "outputId": "439106ce-de09-4ab4-ef54-432b70e5d362"
      },
      "execution_count": 31,
      "outputs": [
        {
          "output_type": "error",
          "ename": "NameError",
          "evalue": "name 'Diffusion' is not defined",
          "traceback": [
            "\u001b[0;31m---------------------------------------------------------------------------\u001b[0m",
            "\u001b[0;31mNameError\u001b[0m                                 Traceback (most recent call last)",
            "\u001b[0;32m<ipython-input-31-09292fa7c735>\u001b[0m in \u001b[0;36m<cell line: 5>\u001b[0;34m()\u001b[0m\n\u001b[1;32m      3\u001b[0m \u001b[0mdevice\u001b[0m \u001b[0;34m=\u001b[0m \u001b[0;34m\"cuda:0\"\u001b[0m\u001b[0;34m\u001b[0m\u001b[0;34m\u001b[0m\u001b[0m\n\u001b[1;32m      4\u001b[0m \u001b[0;31m# Create a Diffusion model instance and load the trained model checkpoint\u001b[0m\u001b[0;34m\u001b[0m\u001b[0;34m\u001b[0m\u001b[0m\n\u001b[0;32m----> 5\u001b[0;31m \u001b[0mdiffusion\u001b[0m \u001b[0;34m=\u001b[0m \u001b[0mDiffusion\u001b[0m\u001b[0;34m(\u001b[0m\u001b[0mseq_size\u001b[0m\u001b[0;34m=\u001b[0m\u001b[0;36m256\u001b[0m\u001b[0;34m,\u001b[0m \u001b[0mdevice\u001b[0m\u001b[0;34m=\u001b[0m\u001b[0mdevice\u001b[0m\u001b[0;34m)\u001b[0m\u001b[0;34m\u001b[0m\u001b[0;34m\u001b[0m\u001b[0m\n\u001b[0m\u001b[1;32m      6\u001b[0m \u001b[0mdiffusion\u001b[0m\u001b[0;34m.\u001b[0m\u001b[0mload\u001b[0m\u001b[0;34m(\u001b[0m\u001b[0;34m\"../../src/models/DDPM_conditional\"\u001b[0m\u001b[0;34m)\u001b[0m\u001b[0;34m\u001b[0m\u001b[0;34m\u001b[0m\u001b[0m\n\u001b[1;32m      7\u001b[0m \u001b[0;31m# Prepare labels and sample from the diffusion model\u001b[0m\u001b[0;34m\u001b[0m\u001b[0;34m\u001b[0m\u001b[0m\n",
            "\u001b[0;31mNameError\u001b[0m: name 'Diffusion' is not defined"
          ]
        }
      ]
    }
  ]
}