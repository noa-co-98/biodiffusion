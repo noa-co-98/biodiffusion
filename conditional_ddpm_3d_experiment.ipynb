{
  "nbformat": 4,
  "nbformat_minor": 0,
  "metadata": {
    "colab": {
      "provenance": [],
      "authorship_tag": "ABX9TyNGJ9tI5EcuoA40Li7zQbwo",
      "include_colab_link": true
    },
    "kernelspec": {
      "name": "python3",
      "display_name": "Python 3"
    },
    "language_info": {
      "name": "python"
    }
  },
  "cells": [
    {
      "cell_type": "markdown",
      "metadata": {
        "id": "view-in-github",
        "colab_type": "text"
      },
      "source": [
        "<a href=\"https://colab.research.google.com/github/noa-co-98/biodiffusion/blob/main/conditional_ddpm_3d_experiment.ipynb\" target=\"_parent\"><img src=\"https://colab.research.google.com/assets/colab-badge.svg\" alt=\"Open In Colab\"/></a>"
      ]
    },
    {
      "cell_type": "code",
      "execution_count": null,
      "metadata": {
        "id": "cTUG6Epl7Cg5"
      },
      "outputs": [],
      "source": [
        "!git clone https://github.com/imics-lab/biodiffusion.git"
      ]
    },
    {
      "cell_type": "code",
      "source": [
        "!pip install kaggle\n",
        "from google.colab import files\n",
        "files.upload()  # This will prompt you to upload the kaggle.json file\n"
      ],
      "metadata": {
        "id": "gBMPvRyw7FB9"
      },
      "execution_count": null,
      "outputs": []
    },
    {
      "cell_type": "code",
      "source": [
        "! mkdir ~/.kaggle\n",
        "! cp kaggle.json ~/.kaggle/\n",
        "! chmod 600 ~/.kaggle/kaggle.json"
      ],
      "metadata": {
        "id": "CTGgntlw7GSp"
      },
      "execution_count": null,
      "outputs": []
    },
    {
      "cell_type": "code",
      "source": [
        "\n",
        "# Define the dataset identifier and destination path\n",
        "dataset_identifier = 'kmader/ridi-robust-imu-double-integration'  # Update with the correct dataset identifier\n",
        "destination_path = '/kaggle/input/'\n",
        "\n",
        "# Download the dataset using the Kaggle API\n",
        "!kaggle datasets download -d {dataset_identifier} -p {destination_path} --force\n",
        "\n",
        "# Unzip the dataset if it is in zip format\n",
        "import zipfile\n",
        "import os\n"
      ],
      "metadata": {
        "id": "U2s4f2pz7IFM"
      },
      "execution_count": null,
      "outputs": []
    },
    {
      "cell_type": "code",
      "source": [
        "dataset_file = os.path.join(destination_path, 'ridi-robust-imu-double-integration.zip')  # Update with the correct file name if different\n",
        "if os.path.exists(dataset_file):\n",
        "    with zipfile.ZipFile(dataset_file, 'r') as zip_ref:\n",
        "        zip_ref.extractall(destination_path)\n",
        "    print(f'Dataset extracted to {destination_path}')\n",
        "else:\n",
        "    print(f'File {dataset_file} does not exist')"
      ],
      "metadata": {
        "id": "seGo3WX27J44"
      },
      "execution_count": null,
      "outputs": []
    },
    {
      "cell_type": "code",
      "source": [
        "python ddpm_conditional.py"
      ],
      "metadata": {
        "id": "Vo7tiixy7Q6m"
      },
      "execution_count": null,
      "outputs": []
    },
    {
      "cell_type": "code",
      "source": [
        "# Set the number of samples and device\n",
        "n = 10\n",
        "device = \"cuda:3\"\n",
        "# Create a Diffusion model instance and load the trained model checkpoint\n",
        "diffusion = Diffusion(img_size=32, device=device)\n",
        "diffusion.load(\"../../src/models/DDPM_conditional\")\n",
        "# Prepare labels and sample from the diffusion model\n",
        "labels = torch.full((n,), 1).long().to(diffusion.device)\n",
        "sampled_images = diffusion.sample(use_ema=False, labels=labels)"
      ],
      "metadata": {
        "id": "Sjc0eTIw7e6l"
      },
      "execution_count": null,
      "outputs": []
    }
  ]
}